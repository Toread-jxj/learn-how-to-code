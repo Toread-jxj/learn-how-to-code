{
 "cells": [
  {
   "cell_type": "markdown",
   "metadata": {},
   "source": [
    "#More Programming\n",
    "## Loops\n",
    "\n",
    "Suppose you want to add 5 numbers. You could do it this way:"
   ]
  },
  {
   "cell_type": "code",
   "execution_count": null,
   "metadata": {
    "collapsed": false
   },
   "outputs": [],
   "source": [
    "total=0\n",
    "a=input(\"Whats number 1 to add?\")\n",
    "total=total+a\n",
    "\n",
    "a=input(\"Whats number 2 to add?\")\n",
    "total=total+a\n",
    "\n",
    "a=input(\"Whats number 3 to add?\")\n",
    "total=total+a\n",
    "\n",
    "a=input(\"Whats number 4 to add?\")\n",
    "total=total+a\n",
    "\n",
    "a=input(\"Whats number 5 to add?\")\n",
    "total=total+a\n",
    "print total"
   ]
  },
  {
   "cell_type": "markdown",
   "metadata": {},
   "source": [
    "However this is not a good programming practice! \"Do not repeat yourself\" is the programming mantra. It may be just about controllable for five numbers, but\n",
    "you can imagine how tedious a program like this to add ten numbers would be, & a hundred would be just\n",
    "impossible.\n",
    "Much better is to set up a variable to count up to five & then stop the program, like this:"
   ]
  },
  {
   "cell_type": "code",
   "execution_count": null,
   "metadata": {
    "collapsed": true
   },
   "outputs": [],
   "source": [
    "total=0\n",
    "count=0\n",
    "while count<5:\n",
    "    a=input(\"Whats number \" + str(count) + \" to add?\")\n",
    "    total=total+a\n",
    "    count=count+1\n",
    "print total"
   ]
  },
  {
   "cell_type": "markdown",
   "metadata": {},
   "source": [
    "Notice how easy it would be to change line 70 so that this program adds ten numbers, or even a\n",
    "hundred.\n",
    "\n",
    "Python’s while statement is the most general \"loop statement\". It repeatedly executes a block of idented statements as long as a test at the top keeps evaluating to a true value. It is called a “loop” because control\n",
    "keeps looping back to the start of the statement until the test becomes false. When the\n",
    "test becomes false, control passes to the statement that follows the while block.\n",
    "\n",
    "##Nested loops\n",
    "Often you need to put loops inside loops, like so:"
   ]
  },
  {
   "cell_type": "code",
   "execution_count": null,
   "metadata": {
    "collapsed": false
   },
   "outputs": [],
   "source": [
    "i=0\n",
    "j=0\n",
    "while i<5:\n",
    "    j=0;\n",
    "    while j<3:\n",
    "        print(\"inner loop: \" + str(j) + \"   outer loop: \" + str(i))\n",
    "        j=j+1 \n",
    "    i=i+1\n",
    "print (\"ready\")"
   ]
  },
  {
   "cell_type": "code",
   "execution_count": null,
   "metadata": {
    "collapsed": true
   },
   "outputs": [],
   "source": []
  },
  {
   "cell_type": "code",
   "execution_count": null,
   "metadata": {
    "collapsed": true
   },
   "outputs": [],
   "source": []
  }
 ],
 "metadata": {
  "kernelspec": {
   "display_name": "Python 2",
   "language": "python",
   "name": "python2"
  },
  "language_info": {
   "codemirror_mode": {
    "name": "ipython",
    "version": 2
   },
   "file_extension": ".py",
   "mimetype": "text/x-python",
   "name": "python",
   "nbconvert_exporter": "python",
   "pygments_lexer": "ipython2",
   "version": "2.7.12"
  }
 },
 "nbformat": 4,
 "nbformat_minor": 0
}
