{
 "cells": [
  {
   "cell_type": "markdown",
   "metadata": {},
   "source": [
    "# Basic Programming\n",
    "Let us see what happens, when we use several lines of \"program code\" (commands to python) at once:"
   ]
  },
  {
   "cell_type": "code",
   "execution_count": null,
   "metadata": {
    "collapsed": false
   },
   "outputs": [],
   "source": [
    "butter=40\n",
    "yeast=30\n",
    "print butter, yeast"
   ]
  },
  {
   "cell_type": "markdown",
   "metadata": {},
   "source": [
    "Now let us have a little bit of interaction. The command `input` opens up a little box where python waits for input from the user. Type in a price for butte (e.g. \"50\")."
   ]
  },
  {
   "cell_type": "code",
   "execution_count": null,
   "metadata": {
    "collapsed": false
   },
   "outputs": [],
   "source": [
    "butter=input(\"price for butter?\")\n",
    "yeast=30\n",
    "print butter, yeast"
   ]
  },
  {
   "cell_type": "markdown",
   "metadata": {
    "collapsed": true
   },
   "source": [
    "Now let us see how we can repetitive tasks with python."
   ]
  },
  {
   "cell_type": "code",
   "execution_count": null,
   "metadata": {
    "collapsed": false
   },
   "outputs": [],
   "source": [
    "# THIS PROGRAM EXTRACTS SQUARE ROOTS\n",
    "import math\n",
    "while True:\n",
    "    r = input(\"value of radix?\")\n",
    "    print r, math.sqrt(r)"
   ]
  },
  {
   "cell_type": "markdown",
   "metadata": {},
   "source": [
    "A lot is going on here: \n",
    "* The first line starts with a \"#\". This is comment, everything behind the \"#\" is ignored by python. You use comments as reminder for yourself (or others) what the code is all about.\n",
    "* Then there is \"while loop\". Every indented line after this line will be repeated infinitely. Mark the colon at the end of the while statement\n",
    "* In python it is important to do proper indentation. Please always use \"spaces\" to create indentation. Especially do not use tabs together with indentation via spaces."
   ]
  },
  {
   "cell_type": "code",
   "execution_count": null,
   "metadata": {
    "collapsed": true
   },
   "outputs": [],
   "source": []
  }
 ],
 "metadata": {
  "kernelspec": {
   "display_name": "Python 2",
   "language": "python",
   "name": "python2"
  },
  "language_info": {
   "codemirror_mode": {
    "name": "ipython",
    "version": 2
   },
   "file_extension": ".py",
   "mimetype": "text/x-python",
   "name": "python",
   "nbconvert_exporter": "python",
   "pygments_lexer": "ipython2",
   "version": "2.7.10"
  }
 },
 "nbformat": 4,
 "nbformat_minor": 0
}
